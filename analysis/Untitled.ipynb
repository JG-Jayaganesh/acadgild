{
 "cells": [
  {
   "cell_type": "code",
   "execution_count": 2,
   "metadata": {},
   "outputs": [
    {
     "data": {
      "text/plain": [
       "array([ 0.28647146, -0.17380089,  0.64467524,  0.53539082, -0.31708372,\n",
       "        0.17485572,  0.46835654, -0.61221617, -1.24104226,  2.2518943 ,\n",
       "       -0.7546543 , -0.58369098,  2.28131952,  0.72757589,  0.22498923,\n",
       "       -0.0371449 ,  0.02768801, -0.31144897,  0.83170326, -0.98475059,\n",
       "       -0.57385354,  0.02854593, -0.76109492,  1.09165503, -1.19574123,\n",
       "       -0.82737717, -0.28091085, -0.26235196,  0.95407762, -1.26976879,\n",
       "       -2.09774669,  1.59469705, -0.68862536, -2.472436  ,  0.46194179,\n",
       "        0.74837027,  2.1238613 , -0.61004123,  1.41380805, -1.34753488,\n",
       "       -0.17652658, -1.29278643,  1.40588646,  1.94101192,  2.40191439,\n",
       "       -1.78498471,  0.06183853,  1.60602329,  0.63638864,  0.97294436,\n",
       "       -0.6223139 ,  0.15857836,  0.02912887, -0.82779862, -0.6360206 ,\n",
       "        0.4126371 ,  1.49018191, -1.61929343, -0.18486773,  0.36661628,\n",
       "       -0.01236526,  1.12683263, -1.23969674, -1.10548265, -0.50954174,\n",
       "        0.4510925 ,  0.59037212,  0.81163777, -1.24517848, -1.71043743,\n",
       "        0.64637666, -1.59457299, -0.95493121, -0.73276421, -0.80854582,\n",
       "       -1.06989704,  1.10849338, -0.39297022, -1.23999589, -0.17949324,\n",
       "       -2.50356196, -1.2683947 , -0.40816104,  0.59207671,  0.25298057,\n",
       "       -1.20648717,  0.80162941,  0.14635144, -0.80114202,  1.6634306 ,\n",
       "        1.31463178,  0.94156014, -0.86315246, -0.16036388,  0.02827561,\n",
       "       -0.9507239 ,  0.13116126,  0.57835476, -0.04720494,  1.54415213,\n",
       "        0.47133065, -0.89553107, -1.49432422, -2.37368139,  0.39564095,\n",
       "        0.51107236,  1.24988279,  0.15915623, -1.62364835,  0.72854195,\n",
       "       -0.10072622, -1.65772507, -1.16501331, -0.42816928,  0.80408058,\n",
       "        0.36294879, -1.08186914, -0.3341676 , -0.60172599, -1.14469515,\n",
       "       -1.94220365, -1.91739319,  1.32292822, -1.42962949,  1.61894048,\n",
       "        0.9191307 ,  0.60552529, -0.85085777, -0.66524639, -1.3858622 ,\n",
       "       -0.33882915,  1.14347891, -1.45638442,  1.46574265,  0.16464466,\n",
       "       -0.44253218,  0.78257591,  0.0390144 , -0.5748069 ,  0.17546991,\n",
       "        0.54605188, -2.22836264,  0.6429972 , -1.73970326,  0.30584746,\n",
       "        0.34378814,  1.81275214,  1.0135488 , -0.35536958, -0.50820863,\n",
       "        0.09029817,  0.62228547, -0.89073523,  0.66191836,  0.11442379,\n",
       "       -0.1253452 ,  0.01882872,  2.08485278, -1.86998495, -1.45926742,\n",
       "        1.21924682,  0.55842454,  0.66210896,  1.19255209,  1.51883007,\n",
       "       -0.59503615,  1.701679  ,  0.43650191,  0.60442054, -0.59823464,\n",
       "        1.1577264 , -0.48537434,  0.3752444 , -0.87640432,  2.62779897,\n",
       "        0.89882078, -1.00009555,  0.82074116, -0.05869761,  1.38598464,\n",
       "       -0.86373851,  0.50174737, -1.76061832, -0.62703348, -0.81237081,\n",
       "        1.16529301,  1.46470574, -0.27089399, -0.39100064,  1.50290587,\n",
       "        0.84343365,  1.18386046,  0.51790945,  0.33362541,  0.48842738,\n",
       "       -0.55470933,  0.0458806 ,  0.71686504, -0.43565497,  0.26155179])"
      ]
     },
     "execution_count": 2,
     "metadata": {},
     "output_type": "execute_result"
    }
   ],
   "source": [
    "import numpy as np\n",
    "np.random.normal(size=200)"
   ]
  },
  {
   "cell_type": "code",
   "execution_count": 3,
   "metadata": {},
   "outputs": [
    {
     "data": {
      "text/plain": [
       "array([ 0.89522426,  0.42417294, -0.12595602,  0.94058927,  1.35839697,\n",
       "        0.46796129,  0.70745998,  0.72427112, -0.41056209, -1.50277337,\n",
       "        0.19446868,  0.05808759, -0.55945525, -1.21332905,  0.23747706,\n",
       "       -0.82746396,  0.70833082, -1.55899212,  0.39298994, -0.5434887 ,\n",
       "        0.66635298, -0.91764646,  1.07897033,  1.48095065,  0.64442528,\n",
       "        0.72178346, -0.6852353 ,  1.61613364,  0.30477102, -0.05067866])"
      ]
     },
     "execution_count": 3,
     "metadata": {},
     "output_type": "execute_result"
    }
   ],
   "source": [
    "np.random.normal(size=30)"
   ]
  },
  {
   "cell_type": "code",
   "execution_count": 5,
   "metadata": {},
   "outputs": [],
   "source": [
    "import pandas as pd\n",
    "normals = pd.Series(np.random.normal(size=30))"
   ]
  },
  {
   "cell_type": "code",
   "execution_count": 6,
   "metadata": {},
   "outputs": [
    {
     "data": {
      "text/plain": [
       "0     -0.613928\n",
       "1     -1.614051\n",
       "2     -1.548118\n",
       "3     -2.921630\n",
       "4     -2.588704\n",
       "5     -2.446145\n",
       "6     -2.538407\n",
       "7     -2.634615\n",
       "8     -3.129685\n",
       "9     -3.240526\n",
       "10    -2.494605\n",
       "11    -1.726012\n",
       "12    -3.205774\n",
       "13    -3.223898\n",
       "14    -5.041469\n",
       "15    -4.652529\n",
       "16    -4.972245\n",
       "17    -5.810514\n",
       "18    -5.455893\n",
       "19    -5.499045\n",
       "20    -6.276410\n",
       "21    -6.912684\n",
       "22    -7.284834\n",
       "23    -7.447913\n",
       "24    -8.043550\n",
       "25    -8.474099\n",
       "26    -7.928779\n",
       "27    -9.512760\n",
       "28   -11.151444\n",
       "29   -11.838802\n",
       "dtype: float64"
      ]
     },
     "execution_count": 6,
     "metadata": {},
     "output_type": "execute_result"
    }
   ],
   "source": [
    "normals.cumsum()"
   ]
  },
  {
   "cell_type": "code",
   "execution_count": 8,
   "metadata": {},
   "outputs": [
    {
     "data": {
      "text/plain": [
       "<bound method DataFrame.cumsum of       gamma    normal  poisson\n",
       "0  1.728978  0.691775        1\n",
       "1  0.228699  2.593447        1\n",
       "2  0.604850  0.018760        1\n",
       "3  1.672511 -1.556594        1\n",
       "4  0.400662  0.721544        1\n",
       "5  0.401387  0.353596        0\n",
       "6  0.006211 -1.032661        0\n",
       "7  0.876375 -1.228032        0\n",
       "8  2.171497  1.215669        1\n",
       "9  0.608976 -0.111739        2>"
      ]
     },
     "execution_count": 8,
     "metadata": {},
     "output_type": "execute_result"
    }
   ],
   "source": [
    "variables = pd.DataFrame({'normal': np.random.normal(size=10), \n",
    "                       'gamma': np.random.gamma(1, size=10), \n",
    "                       'poisson': np.random.poisson(size=10)})\n",
    "variables.cumsum"
   ]
  },
  {
   "cell_type": "code",
   "execution_count": 12,
   "metadata": {},
   "outputs": [
    {
     "data": {
      "text/html": [
       "<div>\n",
       "<style>\n",
       "    .dataframe thead tr:only-child th {\n",
       "        text-align: right;\n",
       "    }\n",
       "\n",
       "    .dataframe thead th {\n",
       "        text-align: left;\n",
       "    }\n",
       "\n",
       "    .dataframe tbody tr th {\n",
       "        vertical-align: top;\n",
       "    }\n",
       "</style>\n",
       "<table border=\"1\" class=\"dataframe\">\n",
       "  <thead>\n",
       "    <tr style=\"text-align: right;\">\n",
       "      <th></th>\n",
       "      <th>gamma</th>\n",
       "      <th>normal</th>\n",
       "      <th>poisson</th>\n",
       "    </tr>\n",
       "  </thead>\n",
       "  <tbody>\n",
       "    <tr>\n",
       "      <th>0</th>\n",
       "      <td>0.644474</td>\n",
       "      <td>2.495374</td>\n",
       "      <td>5.495374</td>\n",
       "    </tr>\n",
       "    <tr>\n",
       "      <th>1</th>\n",
       "      <td>1.252654</td>\n",
       "      <td>2.401675</td>\n",
       "      <td>4.401675</td>\n",
       "    </tr>\n",
       "    <tr>\n",
       "      <th>2</th>\n",
       "      <td>2.465322</td>\n",
       "      <td>2.724223</td>\n",
       "      <td>3.724223</td>\n",
       "    </tr>\n",
       "    <tr>\n",
       "      <th>3</th>\n",
       "      <td>0.533573</td>\n",
       "      <td>1.767840</td>\n",
       "      <td>3.767840</td>\n",
       "    </tr>\n",
       "    <tr>\n",
       "      <th>4</th>\n",
       "      <td>7.667637</td>\n",
       "      <td>8.571381</td>\n",
       "      <td>9.571381</td>\n",
       "    </tr>\n",
       "    <tr>\n",
       "      <th>5</th>\n",
       "      <td>1.815413</td>\n",
       "      <td>2.215708</td>\n",
       "      <td>4.215708</td>\n",
       "    </tr>\n",
       "    <tr>\n",
       "      <th>6</th>\n",
       "      <td>0.408320</td>\n",
       "      <td>2.053471</td>\n",
       "      <td>2.053471</td>\n",
       "    </tr>\n",
       "    <tr>\n",
       "      <th>7</th>\n",
       "      <td>0.454484</td>\n",
       "      <td>1.770152</td>\n",
       "      <td>1.770152</td>\n",
       "    </tr>\n",
       "    <tr>\n",
       "      <th>8</th>\n",
       "      <td>0.618075</td>\n",
       "      <td>1.345598</td>\n",
       "      <td>3.345598</td>\n",
       "    </tr>\n",
       "    <tr>\n",
       "      <th>9</th>\n",
       "      <td>0.304081</td>\n",
       "      <td>1.282750</td>\n",
       "      <td>2.282750</td>\n",
       "    </tr>\n",
       "  </tbody>\n",
       "</table>\n",
       "</div>"
      ],
      "text/plain": [
       "      gamma    normal   poisson\n",
       "0  0.644474  2.495374  5.495374\n",
       "1  1.252654  2.401675  4.401675\n",
       "2  2.465322  2.724223  3.724223\n",
       "3  0.533573  1.767840  3.767840\n",
       "4  7.667637  8.571381  9.571381\n",
       "5  1.815413  2.215708  4.215708\n",
       "6  0.408320  2.053471  2.053471\n",
       "7  0.454484  1.770152  1.770152\n",
       "8  0.618075  1.345598  3.345598\n",
       "9  0.304081  1.282750  2.282750"
      ]
     },
     "execution_count": 12,
     "metadata": {},
     "output_type": "execute_result"
    }
   ],
   "source": [
    "variables = pd.DataFrame({'normal': np.random.normal(size=10), \n",
    "                       'gamma': np.random.gamma(1, size=10), \n",
    "                       'poisson': np.random.poisson(size=10)})\n",
    "variables.cumsum(0)"
   ]
  },
  {
   "cell_type": "code",
   "execution_count": 17,
   "metadata": {},
   "outputs": [
    {
     "data": {
      "text/html": [
       "<div>\n",
       "<style>\n",
       "    .dataframe thead tr:only-child th {\n",
       "        text-align: right;\n",
       "    }\n",
       "\n",
       "    .dataframe thead th {\n",
       "        text-align: left;\n",
       "    }\n",
       "\n",
       "    .dataframe tbody tr th {\n",
       "        vertical-align: top;\n",
       "    }\n",
       "</style>\n",
       "<table border=\"1\" class=\"dataframe\">\n",
       "  <thead>\n",
       "    <tr style=\"text-align: right;\">\n",
       "      <th></th>\n",
       "      <th>gamma</th>\n",
       "      <th>normal</th>\n",
       "      <th>poisson</th>\n",
       "    </tr>\n",
       "  </thead>\n",
       "  <tbody>\n",
       "    <tr>\n",
       "      <th>0</th>\n",
       "      <td>0.644474</td>\n",
       "      <td>1.850899</td>\n",
       "      <td>3.0</td>\n",
       "    </tr>\n",
       "    <tr>\n",
       "      <th>1</th>\n",
       "      <td>1.897128</td>\n",
       "      <td>2.999921</td>\n",
       "      <td>5.0</td>\n",
       "    </tr>\n",
       "    <tr>\n",
       "      <th>2</th>\n",
       "      <td>4.362450</td>\n",
       "      <td>3.258822</td>\n",
       "      <td>6.0</td>\n",
       "    </tr>\n",
       "    <tr>\n",
       "      <th>3</th>\n",
       "      <td>4.896023</td>\n",
       "      <td>4.493089</td>\n",
       "      <td>8.0</td>\n",
       "    </tr>\n",
       "    <tr>\n",
       "      <th>4</th>\n",
       "      <td>12.563660</td>\n",
       "      <td>5.396833</td>\n",
       "      <td>9.0</td>\n",
       "    </tr>\n",
       "    <tr>\n",
       "      <th>5</th>\n",
       "      <td>14.379073</td>\n",
       "      <td>5.797128</td>\n",
       "      <td>11.0</td>\n",
       "    </tr>\n",
       "    <tr>\n",
       "      <th>6</th>\n",
       "      <td>14.787393</td>\n",
       "      <td>7.442280</td>\n",
       "      <td>11.0</td>\n",
       "    </tr>\n",
       "    <tr>\n",
       "      <th>7</th>\n",
       "      <td>15.241877</td>\n",
       "      <td>8.757948</td>\n",
       "      <td>11.0</td>\n",
       "    </tr>\n",
       "    <tr>\n",
       "      <th>8</th>\n",
       "      <td>15.859952</td>\n",
       "      <td>9.485471</td>\n",
       "      <td>13.0</td>\n",
       "    </tr>\n",
       "    <tr>\n",
       "      <th>9</th>\n",
       "      <td>16.164033</td>\n",
       "      <td>10.464140</td>\n",
       "      <td>14.0</td>\n",
       "    </tr>\n",
       "  </tbody>\n",
       "</table>\n",
       "</div>"
      ],
      "text/plain": [
       "       gamma     normal  poisson\n",
       "0   0.644474   1.850899      3.0\n",
       "1   1.897128   2.999921      5.0\n",
       "2   4.362450   3.258822      6.0\n",
       "3   4.896023   4.493089      8.0\n",
       "4  12.563660   5.396833      9.0\n",
       "5  14.379073   5.797128     11.0\n",
       "6  14.787393   7.442280     11.0\n",
       "7  15.241877   8.757948     11.0\n",
       "8  15.859952   9.485471     13.0\n",
       "9  16.164033  10.464140     14.0"
      ]
     },
     "execution_count": 17,
     "metadata": {},
     "output_type": "execute_result"
    }
   ],
   "source": [
    "variables.cumsum(0)"
   ]
  },
  {
   "cell_type": "code",
   "execution_count": 16,
   "metadata": {},
   "outputs": [
    {
     "data": {
      "text/plain": [
       "<matplotlib.axes._subplots.AxesSubplot at 0x7f6c0d321048>"
      ]
     },
     "execution_count": 16,
     "metadata": {},
     "output_type": "execute_result"
    },
    {
     "data": {
      "image/png": "[encoded data removed]",
      "text/plain": [
       "<matplotlib.figure.Figure at 0x7f6c0d0ebb00>"
      ]
     },
     "metadata": {},
     "output_type": "display_data"
    }
   ],
   "source": [
    "%matplotlib inline\n",
    "variables.cumsum(0).plot(secondary_y='normal')"
   ]
  },
  {
   "cell_type": "code",
   "execution_count": 20,
   "metadata": {},
   "outputs": [
    {
     "name": "stdout",
     "output_type": "stream",
     "text": [
      "[  0.           0.1010101    0.2020202    0.3030303    0.4040404\n",
      "   0.50505051   0.60606061   0.70707071   0.80808081   0.90909091\n",
      "   1.01010101   1.11111111   1.21212121   1.31313131   1.41414141\n",
      "   1.51515152   1.61616162   1.71717172   1.81818182   1.91919192\n",
      "   2.02020202   2.12121212   2.22222222   2.32323232   2.42424242\n",
      "   2.52525253   2.62626263   2.72727273   2.82828283   2.92929293\n",
      "   3.03030303   3.13131313   3.23232323   3.33333333   3.43434343\n",
      "   3.53535354   3.63636364   3.73737374   3.83838384   3.93939394\n",
      "   4.04040404   4.14141414   4.24242424   4.34343434   4.44444444\n",
      "   4.54545455   4.64646465   4.74747475   4.84848485   4.94949495\n",
      "   5.05050505   5.15151515   5.25252525   5.35353535   5.45454545\n",
      "   5.55555556   5.65656566   5.75757576   5.85858586   5.95959596\n",
      "   6.06060606   6.16161616   6.26262626   6.36363636   6.46464646\n",
      "   6.56565657   6.66666667   6.76767677   6.86868687   6.96969697\n",
      "   7.07070707   7.17171717   7.27272727   7.37373737   7.47474747\n",
      "   7.57575758   7.67676768   7.77777778   7.87878788   7.97979798\n",
      "   8.08080808   8.18181818   8.28282828   8.38383838   8.48484848\n",
      "   8.58585859   8.68686869   8.78787879   8.88888889   8.98989899\n",
      "   9.09090909   9.19191919   9.29292929   9.39393939   9.49494949\n",
      "   9.5959596    9.6969697    9.7979798    9.8989899   10.        ]\n",
      "[ 0.08883546  0.11402798  0.26416521  0.34883937  0.35139665  0.40354022\n",
      "  0.6300334   0.58908517  0.83806851  0.92737935  0.629114    1.02085726\n",
      "  0.94487238  0.88739523  0.92219114  1.00418632  1.00558779  0.96912995\n",
      "  1.08806129  1.04242435  0.73859979  0.91595026  0.80658276  0.69771533\n",
      "  0.67874831  0.58263097  0.40066909  0.49218497  0.35090515 -0.04503897\n",
      "  0.01269004 -0.02723991 -0.18581138 -0.24748464 -0.3129463  -0.28943405\n",
      " -0.75867018 -0.48902048 -0.54906005 -0.72056109 -0.72514753 -0.78804363\n",
      " -0.96726066 -0.9188017  -0.977332   -0.85827545 -1.08408668 -1.02466067\n",
      " -1.07030899 -0.97809427 -0.99031919 -0.91803282 -0.71359179 -0.76531839\n",
      " -0.85881748 -0.55982496 -0.64043401 -0.46952825 -0.33207763 -0.124501\n",
      " -0.02678557 -0.107443    0.0050935   0.14779547  0.17410066  0.30972035\n",
      "  0.28250805  0.57952016  0.57208606  0.38093902  0.64563375  0.72991204\n",
      "  0.79045906  0.71074387  0.97238875  0.89639358  0.87718715  1.10117735\n",
      "  1.02006988  0.95821249  1.0074565   1.16977807  0.75245569  0.88351709\n",
      "  0.99570698  0.62610691  0.57855892  0.72881637  0.61724451  0.44331043\n",
      "  0.19857632  0.36963899  0.09884499  0.06276484 -0.09089097 -0.25861521\n",
      " -0.04537295 -0.46352505 -0.31881394 -0.43937993]\n"
     ]
    },
    {
     "data": {
      "image/png": "[encoded data removed]",
      "text/plain": [
       "<matplotlib.figure.Figure at 0x7f6c0d088978>"
      ]
     },
     "metadata": {},
     "output_type": "display_data"
    }
   ],
   "source": [
    "import matplotlib.pyplot as plt\n",
    "x = np.linspace(0, 10, 100)\n",
    "dy = 0.1\n",
    "y = np.sin(x) + dy * np.random.randn(100)\n",
    "\n",
    "plt.errorbar(x, y, yerr=dy, fmt='.k');\n",
    "print (x)\n",
    "print (y)"
   ]
  },
  {
   "cell_type": "code",
   "execution_count": null,
   "metadata": {
    "collapsed": true
   },
   "outputs": [],
   "source": []
  }
 ],
 "metadata": {
  "kernelspec": {
   "display_name": "Python 3",
   "language": "python",
   "name": "python3"
  },
  "language_info": {
   "codemirror_mode": {
    "name": "ipython",
    "version": 3
   },
   "file_extension": ".py",
   "mimetype": "text/x-python",
   "name": "python",
   "nbconvert_exporter": "python",
   "pygments_lexer": "ipython3",
   "version": "3.6.1"
  }
 },
 "nbformat": 4,
 "nbformat_minor": 2
}
